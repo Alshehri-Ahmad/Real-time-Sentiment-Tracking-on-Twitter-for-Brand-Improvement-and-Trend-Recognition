{
 "cells": [
  {
   "cell_type": "code",
   "execution_count": 1,
   "metadata": {},
   "outputs": [],
   "source": [
    "# Load data from MySQL to perform exploratory data analysis\n",
    "import settings\n",
    "import mysql.connector\n",
    "import pandas as pd\n",
    "db_connection = mysql.connector.connect(\n",
    "    host=\"localhost\",\n",
    "    user=\"root\",\n",
    "    passwd=\"password\",\n",
    "    database=\"TwitterDB\",\n",
    "    charset = 'utf8'\n",
    ")\n",
    "df = pd.read_sql('SELECT * FROM {}'.format(settings.TABLE_NAME), con=db_connection)"
   ]
  },
  {
   "cell_type": "code",
   "execution_count": 2,
   "metadata": {},
   "outputs": [
    {
     "data": {
      "text/html": [
       "<div>\n",
       "<style scoped>\n",
       "    .dataframe tbody tr th:only-of-type {\n",
       "        vertical-align: middle;\n",
       "    }\n",
       "\n",
       "    .dataframe tbody tr th {\n",
       "        vertical-align: top;\n",
       "    }\n",
       "\n",
       "    .dataframe thead th {\n",
       "        text-align: right;\n",
       "    }\n",
       "</style>\n",
       "<table border=\"1\" class=\"dataframe\">\n",
       "  <thead>\n",
       "    <tr style=\"text-align: right;\">\n",
       "      <th></th>\n",
       "      <th>id_str</th>\n",
       "      <th>datetime</th>\n",
       "      <th>text</th>\n",
       "      <th>polarity</th>\n",
       "    </tr>\n",
       "  </thead>\n",
       "  <tbody>\n",
       "    <tr>\n",
       "      <th>0</th>\n",
       "      <td>1158456816558387202</td>\n",
       "      <td>2019-08-05 19:16:42</td>\n",
       "      <td>RT @ananavarro: Trump can speak out against:\\n...</td>\n",
       "      <td>0</td>\n",
       "    </tr>\n",
       "    <tr>\n",
       "      <th>1</th>\n",
       "      <td>1158456816696623104</td>\n",
       "      <td>2019-08-05 19:16:42</td>\n",
       "      <td>RT @GabbyGiffords: If you’re angry, we need to...</td>\n",
       "      <td>0</td>\n",
       "    </tr>\n",
       "    <tr>\n",
       "      <th>2</th>\n",
       "      <td>1158456816679866368</td>\n",
       "      <td>2019-08-05 19:16:42</td>\n",
       "      <td>RT @GlennKesslerWP: Mental illness pulled the ...</td>\n",
       "      <td>0</td>\n",
       "    </tr>\n",
       "    <tr>\n",
       "      <th>3</th>\n",
       "      <td>1158456816734494721</td>\n",
       "      <td>2019-08-05 19:16:42</td>\n",
       "      <td>RT @BillOReilly: It is beyond revolting that B...</td>\n",
       "      <td>0</td>\n",
       "    </tr>\n",
       "    <tr>\n",
       "      <th>4</th>\n",
       "      <td>1158456816659050496</td>\n",
       "      <td>2019-08-05 19:16:42</td>\n",
       "      <td>Putin a Trump: desarrollaremos nuevos misiles ...</td>\n",
       "      <td>0</td>\n",
       "    </tr>\n",
       "  </tbody>\n",
       "</table>\n",
       "</div>"
      ],
      "text/plain": [
       "                id_str             datetime  \\\n",
       "0  1158456816558387202  2019-08-05 19:16:42   \n",
       "1  1158456816696623104  2019-08-05 19:16:42   \n",
       "2  1158456816679866368  2019-08-05 19:16:42   \n",
       "3  1158456816734494721  2019-08-05 19:16:42   \n",
       "4  1158456816659050496  2019-08-05 19:16:42   \n",
       "\n",
       "                                                text  polarity  \n",
       "0  RT @ananavarro: Trump can speak out against:\\n...         0  \n",
       "1  RT @GabbyGiffords: If you’re angry, we need to...         0  \n",
       "2  RT @GlennKesslerWP: Mental illness pulled the ...         0  \n",
       "3  RT @BillOReilly: It is beyond revolting that B...         0  \n",
       "4  Putin a Trump: desarrollaremos nuevos misiles ...         0  "
      ]
     },
     "execution_count": 2,
     "metadata": {},
     "output_type": "execute_result"
    }
   ],
   "source": [
    "df.head()"
   ]
  },
  {
   "cell_type": "code",
   "execution_count": null,
   "metadata": {},
   "outputs": [],
   "source": [
    "import seaborn as sns\n",
    "sns.set(style=\"whitegrid\")\n",
    "ax = sns.violinplot(x=df[\"polarity\"])"
   ]
  }
 ],
 "metadata": {
  "kernelspec": {
   "display_name": "Python 3",
   "language": "python",
   "name": "python3"
  },
  "language_info": {
   "codemirror_mode": {
    "name": "ipython",
    "version": 3
   },
   "file_extension": ".py",
   "mimetype": "text/x-python",
   "name": "python",
   "nbconvert_exporter": "python",
   "pygments_lexer": "ipython3",
   "version": "3.7.3"
  }
 },
 "nbformat": 4,
 "nbformat_minor": 2
}
